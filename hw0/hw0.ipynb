{
 "cells": [
  {
   "cell_type": "markdown",
   "metadata": {},
   "source": [
    "# Preprocess"
   ]
  },
  {
   "cell_type": "markdown",
   "metadata": {},
   "source": [
    "## Dataset\n",
    "\n",
    "[New York Citi Bike Trip Histories](https://www.citibikenyc.com/system-data)\n",
    "\n",
    "Use [201707-citibike-tripdata.csv.zip](https://s3.amazonaws.com/tripdata/201707-citibike-tripdata.csv.zip) as dataset\n",
    "\n",
    "## Schema\n",
    "\n",
    "- Trip Duration (seconds)\n",
    "- Start Time and Date\n",
    "- Stop Time and Date\n",
    "- Start Station Name\n",
    "- End Station Name\n",
    "- Station ID\n",
    "- Station Lat/Long\n",
    "- Bike ID\n",
    "- User Type (Customer = 24-hour pass or 3-day pass user; Subscriber = Annual Member)\n",
    "- Gender (Zero=unknown; 1=male; 2=female)\n",
    "- Year of Birth\n",
    "\n",
    "This data has been processed to remove trips that are taken by staff as they service and inspect the system, trips that are taken to/from any of our “test” stations (which we were using more in June and July 2013), and any trips that were below 60 seconds in length (potentially false starts or users trying to re-dock a bike to ensure it's secure)."
   ]
  },
  {
   "cell_type": "markdown",
   "metadata": {},
   "source": [
    "### Import packages"
   ]
  },
  {
   "cell_type": "code",
   "execution_count": 3,
   "metadata": {},
   "outputs": [],
   "source": [
    "import pandas as pd\n",
    "import numpy as np\n",
    "import matplotlib.pyplot as plt\n",
    "from geopy.distance import great_circle\n",
    "from sklearn.metrics.pairwise import euclidean_distances\n",
    "from scipy import signal\n",
    "%matplotlib inline"
   ]
  },
  {
   "cell_type": "markdown",
   "metadata": {},
   "source": [
    "### Read csv to dataframe\n",
    "\n",
    "use pandas to read data"
   ]
  },
  {
   "cell_type": "code",
   "execution_count": 4,
   "metadata": {
    "scrolled": true
   },
   "outputs": [
    {
     "data": {
      "text/html": [
       "<div>\n",
       "<style>\n",
       "    .dataframe thead tr:only-child th {\n",
       "        text-align: right;\n",
       "    }\n",
       "\n",
       "    .dataframe thead th {\n",
       "        text-align: left;\n",
       "    }\n",
       "\n",
       "    .dataframe tbody tr th {\n",
       "        vertical-align: top;\n",
       "    }\n",
       "</style>\n",
       "<table border=\"1\" class=\"dataframe\">\n",
       "  <thead>\n",
       "    <tr style=\"text-align: right;\">\n",
       "      <th></th>\n",
       "      <th>tripduration</th>\n",
       "      <th>starttime</th>\n",
       "      <th>stoptime</th>\n",
       "      <th>start station id</th>\n",
       "      <th>start station name</th>\n",
       "      <th>start station latitude</th>\n",
       "      <th>start station longitude</th>\n",
       "      <th>end station id</th>\n",
       "      <th>end station name</th>\n",
       "      <th>end station latitude</th>\n",
       "      <th>end station longitude</th>\n",
       "      <th>bikeid</th>\n",
       "      <th>usertype</th>\n",
       "      <th>birth year</th>\n",
       "      <th>gender</th>\n",
       "    </tr>\n",
       "  </thead>\n",
       "  <tbody>\n",
       "    <tr>\n",
       "      <th>0</th>\n",
       "      <td>364</td>\n",
       "      <td>2017-07-01 00:00:00</td>\n",
       "      <td>2017-07-01 00:06:05</td>\n",
       "      <td>539</td>\n",
       "      <td>Metropolitan Ave &amp; Bedford Ave</td>\n",
       "      <td>40.715348</td>\n",
       "      <td>-73.960241</td>\n",
       "      <td>3107</td>\n",
       "      <td>Bedford Ave &amp; Nassau Ave</td>\n",
       "      <td>40.723117</td>\n",
       "      <td>-73.952123</td>\n",
       "      <td>14744</td>\n",
       "      <td>Subscriber</td>\n",
       "      <td>1986.0</td>\n",
       "      <td>1</td>\n",
       "    </tr>\n",
       "    <tr>\n",
       "      <th>1</th>\n",
       "      <td>2142</td>\n",
       "      <td>2017-07-01 00:00:03</td>\n",
       "      <td>2017-07-01 00:35:46</td>\n",
       "      <td>293</td>\n",
       "      <td>Lafayette St &amp; E 8 St</td>\n",
       "      <td>40.730207</td>\n",
       "      <td>-73.991026</td>\n",
       "      <td>3425</td>\n",
       "      <td>2 Ave  &amp; E 104 St</td>\n",
       "      <td>40.789210</td>\n",
       "      <td>-73.943708</td>\n",
       "      <td>19587</td>\n",
       "      <td>Subscriber</td>\n",
       "      <td>1981.0</td>\n",
       "      <td>1</td>\n",
       "    </tr>\n",
       "    <tr>\n",
       "      <th>2</th>\n",
       "      <td>328</td>\n",
       "      <td>2017-07-01 00:00:08</td>\n",
       "      <td>2017-07-01 00:05:37</td>\n",
       "      <td>3242</td>\n",
       "      <td>Schermerhorn St &amp; Court St</td>\n",
       "      <td>40.691029</td>\n",
       "      <td>-73.991834</td>\n",
       "      <td>3397</td>\n",
       "      <td>Court St &amp; Nelson St</td>\n",
       "      <td>40.676395</td>\n",
       "      <td>-73.998699</td>\n",
       "      <td>27937</td>\n",
       "      <td>Subscriber</td>\n",
       "      <td>1984.0</td>\n",
       "      <td>2</td>\n",
       "    </tr>\n",
       "    <tr>\n",
       "      <th>3</th>\n",
       "      <td>2530</td>\n",
       "      <td>2017-07-01 00:00:11</td>\n",
       "      <td>2017-07-01 00:42:22</td>\n",
       "      <td>2002</td>\n",
       "      <td>Wythe Ave &amp; Metropolitan Ave</td>\n",
       "      <td>40.716887</td>\n",
       "      <td>-73.963198</td>\n",
       "      <td>398</td>\n",
       "      <td>Atlantic Ave &amp; Furman St</td>\n",
       "      <td>40.691652</td>\n",
       "      <td>-73.999979</td>\n",
       "      <td>26066</td>\n",
       "      <td>Subscriber</td>\n",
       "      <td>1985.0</td>\n",
       "      <td>1</td>\n",
       "    </tr>\n",
       "    <tr>\n",
       "      <th>4</th>\n",
       "      <td>2534</td>\n",
       "      <td>2017-07-01 00:00:15</td>\n",
       "      <td>2017-07-01 00:42:29</td>\n",
       "      <td>2002</td>\n",
       "      <td>Wythe Ave &amp; Metropolitan Ave</td>\n",
       "      <td>40.716887</td>\n",
       "      <td>-73.963198</td>\n",
       "      <td>398</td>\n",
       "      <td>Atlantic Ave &amp; Furman St</td>\n",
       "      <td>40.691652</td>\n",
       "      <td>-73.999979</td>\n",
       "      <td>29408</td>\n",
       "      <td>Subscriber</td>\n",
       "      <td>1982.0</td>\n",
       "      <td>2</td>\n",
       "    </tr>\n",
       "  </tbody>\n",
       "</table>\n",
       "</div>"
      ],
      "text/plain": [
       "   tripduration            starttime             stoptime  start station id  \\\n",
       "0           364  2017-07-01 00:00:00  2017-07-01 00:06:05               539   \n",
       "1          2142  2017-07-01 00:00:03  2017-07-01 00:35:46               293   \n",
       "2           328  2017-07-01 00:00:08  2017-07-01 00:05:37              3242   \n",
       "3          2530  2017-07-01 00:00:11  2017-07-01 00:42:22              2002   \n",
       "4          2534  2017-07-01 00:00:15  2017-07-01 00:42:29              2002   \n",
       "\n",
       "               start station name  start station latitude  \\\n",
       "0  Metropolitan Ave & Bedford Ave               40.715348   \n",
       "1           Lafayette St & E 8 St               40.730207   \n",
       "2      Schermerhorn St & Court St               40.691029   \n",
       "3    Wythe Ave & Metropolitan Ave               40.716887   \n",
       "4    Wythe Ave & Metropolitan Ave               40.716887   \n",
       "\n",
       "   start station longitude  end station id          end station name  \\\n",
       "0               -73.960241            3107  Bedford Ave & Nassau Ave   \n",
       "1               -73.991026            3425         2 Ave  & E 104 St   \n",
       "2               -73.991834            3397      Court St & Nelson St   \n",
       "3               -73.963198             398  Atlantic Ave & Furman St   \n",
       "4               -73.963198             398  Atlantic Ave & Furman St   \n",
       "\n",
       "   end station latitude  end station longitude  bikeid    usertype  \\\n",
       "0             40.723117             -73.952123   14744  Subscriber   \n",
       "1             40.789210             -73.943708   19587  Subscriber   \n",
       "2             40.676395             -73.998699   27937  Subscriber   \n",
       "3             40.691652             -73.999979   26066  Subscriber   \n",
       "4             40.691652             -73.999979   29408  Subscriber   \n",
       "\n",
       "   birth year  gender  \n",
       "0      1986.0       1  \n",
       "1      1981.0       1  \n",
       "2      1984.0       2  \n",
       "3      1985.0       1  \n",
       "4      1982.0       2  "
      ]
     },
     "execution_count": 4,
     "metadata": {},
     "output_type": "execute_result"
    }
   ],
   "source": [
    "df = pd.read_csv('./201707-citibike-tripdata.csv')\n",
    "df.head()"
   ]
  },
  {
   "cell_type": "code",
   "execution_count": 5,
   "metadata": {},
   "outputs": [
    {
     "name": "stdout",
     "output_type": "stream",
     "text": [
      "<class 'pandas.core.frame.DataFrame'>\n",
      "RangeIndex: 1735599 entries, 0 to 1735598\n",
      "Data columns (total 15 columns):\n",
      "tripduration               int64\n",
      "starttime                  object\n",
      "stoptime                   object\n",
      "start station id           int64\n",
      "start station name         object\n",
      "start station latitude     float64\n",
      "start station longitude    float64\n",
      "end station id             int64\n",
      "end station name           object\n",
      "end station latitude       float64\n",
      "end station longitude      float64\n",
      "bikeid                     int64\n",
      "usertype                   object\n",
      "birth year                 float64\n",
      "gender                     int64\n",
      "dtypes: float64(5), int64(5), object(5)\n",
      "memory usage: 198.6+ MB\n"
     ]
    }
   ],
   "source": [
    "df.info()"
   ]
  },
  {
   "cell_type": "markdown",
   "metadata": {},
   "source": [
    "## Detect missing data\n",
    "\n",
    "find out some null or NAN in dataframe, and we find NAN in birth year column"
   ]
  },
  {
   "cell_type": "code",
   "execution_count": 6,
   "metadata": {
    "scrolled": false
   },
   "outputs": [
    {
     "data": {
      "text/plain": [
       "tripduration                    0\n",
       "starttime                       0\n",
       "stoptime                        0\n",
       "start station id                0\n",
       "start station name              0\n",
       "start station latitude          0\n",
       "start station longitude         0\n",
       "end station id                  0\n",
       "end station name                0\n",
       "end station latitude            0\n",
       "end station longitude           0\n",
       "bikeid                          0\n",
       "usertype                        0\n",
       "birth year                 228596\n",
       "gender                          0\n",
       "dtype: int64"
      ]
     },
     "execution_count": 6,
     "metadata": {},
     "output_type": "execute_result"
    }
   ],
   "source": [
    "df.isnull().sum()"
   ]
  },
  {
   "cell_type": "markdown",
   "metadata": {},
   "source": [
    "### Fill missing data with the most frequency data\n",
    "\n",
    "because birth year is not like real number, we do not use mean to fill missing data; using the most frequency data is more proper to fix it"
   ]
  },
  {
   "cell_type": "code",
   "execution_count": 7,
   "metadata": {
    "scrolled": true
   },
   "outputs": [
    {
     "data": {
      "text/plain": [
       "tripduration               0\n",
       "starttime                  0\n",
       "stoptime                   0\n",
       "start station id           0\n",
       "start station name         0\n",
       "start station latitude     0\n",
       "start station longitude    0\n",
       "end station id             0\n",
       "end station name           0\n",
       "end station latitude       0\n",
       "end station longitude      0\n",
       "bikeid                     0\n",
       "usertype                   0\n",
       "birth year                 0\n",
       "gender                     0\n",
       "dtype: int64"
      ]
     },
     "execution_count": 7,
     "metadata": {},
     "output_type": "execute_result"
    }
   ],
   "source": [
    "df['birth year'] = df['birth year'].fillna(df['birth year'].mode()[0])\n",
    "df.isnull().sum()"
   ]
  },
  {
   "cell_type": "markdown",
   "metadata": {},
   "source": [
    "## Detect strange data\n",
    "\n",
    "detect and fix thhe data"
   ]
  },
  {
   "cell_type": "code",
   "execution_count": 8,
   "metadata": {},
   "outputs": [
    {
     "data": {
      "text/html": [
       "<div>\n",
       "<style>\n",
       "    .dataframe thead tr:only-child th {\n",
       "        text-align: right;\n",
       "    }\n",
       "\n",
       "    .dataframe thead th {\n",
       "        text-align: left;\n",
       "    }\n",
       "\n",
       "    .dataframe tbody tr th {\n",
       "        vertical-align: top;\n",
       "    }\n",
       "</style>\n",
       "<table border=\"1\" class=\"dataframe\">\n",
       "  <thead>\n",
       "    <tr style=\"text-align: right;\">\n",
       "      <th></th>\n",
       "      <th>tripduration</th>\n",
       "      <th>start station id</th>\n",
       "      <th>start station latitude</th>\n",
       "      <th>start station longitude</th>\n",
       "      <th>end station id</th>\n",
       "      <th>end station latitude</th>\n",
       "      <th>end station longitude</th>\n",
       "      <th>bikeid</th>\n",
       "      <th>birth year</th>\n",
       "      <th>gender</th>\n",
       "    </tr>\n",
       "  </thead>\n",
       "  <tbody>\n",
       "    <tr>\n",
       "      <th>count</th>\n",
       "      <td>1.735599e+06</td>\n",
       "      <td>1.735599e+06</td>\n",
       "      <td>1.735599e+06</td>\n",
       "      <td>1.735599e+06</td>\n",
       "      <td>1.735599e+06</td>\n",
       "      <td>1.735599e+06</td>\n",
       "      <td>1.735599e+06</td>\n",
       "      <td>1.735599e+06</td>\n",
       "      <td>1.735599e+06</td>\n",
       "      <td>1.735599e+06</td>\n",
       "    </tr>\n",
       "    <tr>\n",
       "      <th>mean</th>\n",
       "      <td>1.060143e+03</td>\n",
       "      <td>1.371501e+03</td>\n",
       "      <td>4.073562e+01</td>\n",
       "      <td>-7.398510e+01</td>\n",
       "      <td>1.370967e+03</td>\n",
       "      <td>4.073536e+01</td>\n",
       "      <td>-7.398519e+01</td>\n",
       "      <td>2.317056e+04</td>\n",
       "      <td>1.980699e+03</td>\n",
       "      <td>1.095545e+00</td>\n",
       "    </tr>\n",
       "    <tr>\n",
       "      <th>std</th>\n",
       "      <td>9.622457e+03</td>\n",
       "      <td>1.348571e+03</td>\n",
       "      <td>2.859067e-02</td>\n",
       "      <td>1.744022e-02</td>\n",
       "      <td>1.348952e+03</td>\n",
       "      <td>2.855812e-02</td>\n",
       "      <td>1.747490e-02</td>\n",
       "      <td>4.988904e+03</td>\n",
       "      <td>1.114420e+01</td>\n",
       "      <td>5.978624e-01</td>\n",
       "    </tr>\n",
       "    <tr>\n",
       "      <th>min</th>\n",
       "      <td>6.100000e+01</td>\n",
       "      <td>7.200000e+01</td>\n",
       "      <td>4.065540e+01</td>\n",
       "      <td>-7.401713e+01</td>\n",
       "      <td>7.200000e+01</td>\n",
       "      <td>4.065540e+01</td>\n",
       "      <td>-7.406692e+01</td>\n",
       "      <td>1.452900e+04</td>\n",
       "      <td>1.874000e+03</td>\n",
       "      <td>0.000000e+00</td>\n",
       "    </tr>\n",
       "    <tr>\n",
       "      <th>25%</th>\n",
       "      <td>3.950000e+02</td>\n",
       "      <td>3.590000e+02</td>\n",
       "      <td>4.071740e+01</td>\n",
       "      <td>-7.399725e+01</td>\n",
       "      <td>3.590000e+02</td>\n",
       "      <td>4.071723e+01</td>\n",
       "      <td>-7.399726e+01</td>\n",
       "      <td>1.840200e+04</td>\n",
       "      <td>1.974000e+03</td>\n",
       "      <td>1.000000e+00</td>\n",
       "    </tr>\n",
       "    <tr>\n",
       "      <th>50%</th>\n",
       "      <td>6.760000e+02</td>\n",
       "      <td>4.860000e+02</td>\n",
       "      <td>4.073625e+01</td>\n",
       "      <td>-7.398765e+01</td>\n",
       "      <td>4.850000e+02</td>\n",
       "      <td>4.073588e+01</td>\n",
       "      <td>-7.398766e+01</td>\n",
       "      <td>2.519100e+04</td>\n",
       "      <td>1.985000e+03</td>\n",
       "      <td>1.000000e+00</td>\n",
       "    </tr>\n",
       "    <tr>\n",
       "      <th>75%</th>\n",
       "      <td>1.183000e+03</td>\n",
       "      <td>3.142000e+03</td>\n",
       "      <td>4.075514e+01</td>\n",
       "      <td>-7.397575e+01</td>\n",
       "      <td>3.141000e+03</td>\n",
       "      <td>4.075510e+01</td>\n",
       "      <td>-7.397605e+01</td>\n",
       "      <td>2.773400e+04</td>\n",
       "      <td>1.988000e+03</td>\n",
       "      <td>1.000000e+00</td>\n",
       "    </tr>\n",
       "    <tr>\n",
       "      <th>max</th>\n",
       "      <td>2.477222e+06</td>\n",
       "      <td>3.478000e+03</td>\n",
       "      <td>4.088092e+01</td>\n",
       "      <td>-7.389660e+01</td>\n",
       "      <td>3.478000e+03</td>\n",
       "      <td>4.088092e+01</td>\n",
       "      <td>-7.389660e+01</td>\n",
       "      <td>3.033700e+04</td>\n",
       "      <td>2.001000e+03</td>\n",
       "      <td>2.000000e+00</td>\n",
       "    </tr>\n",
       "  </tbody>\n",
       "</table>\n",
       "</div>"
      ],
      "text/plain": [
       "       tripduration  start station id  start station latitude  \\\n",
       "count  1.735599e+06      1.735599e+06            1.735599e+06   \n",
       "mean   1.060143e+03      1.371501e+03            4.073562e+01   \n",
       "std    9.622457e+03      1.348571e+03            2.859067e-02   \n",
       "min    6.100000e+01      7.200000e+01            4.065540e+01   \n",
       "25%    3.950000e+02      3.590000e+02            4.071740e+01   \n",
       "50%    6.760000e+02      4.860000e+02            4.073625e+01   \n",
       "75%    1.183000e+03      3.142000e+03            4.075514e+01   \n",
       "max    2.477222e+06      3.478000e+03            4.088092e+01   \n",
       "\n",
       "       start station longitude  end station id  end station latitude  \\\n",
       "count             1.735599e+06    1.735599e+06          1.735599e+06   \n",
       "mean             -7.398510e+01    1.370967e+03          4.073536e+01   \n",
       "std               1.744022e-02    1.348952e+03          2.855812e-02   \n",
       "min              -7.401713e+01    7.200000e+01          4.065540e+01   \n",
       "25%              -7.399725e+01    3.590000e+02          4.071723e+01   \n",
       "50%              -7.398765e+01    4.850000e+02          4.073588e+01   \n",
       "75%              -7.397575e+01    3.141000e+03          4.075510e+01   \n",
       "max              -7.389660e+01    3.478000e+03          4.088092e+01   \n",
       "\n",
       "       end station longitude        bikeid    birth year        gender  \n",
       "count           1.735599e+06  1.735599e+06  1.735599e+06  1.735599e+06  \n",
       "mean           -7.398519e+01  2.317056e+04  1.980699e+03  1.095545e+00  \n",
       "std             1.747490e-02  4.988904e+03  1.114420e+01  5.978624e-01  \n",
       "min            -7.406692e+01  1.452900e+04  1.874000e+03  0.000000e+00  \n",
       "25%            -7.399726e+01  1.840200e+04  1.974000e+03  1.000000e+00  \n",
       "50%            -7.398766e+01  2.519100e+04  1.985000e+03  1.000000e+00  \n",
       "75%            -7.397605e+01  2.773400e+04  1.988000e+03  1.000000e+00  \n",
       "max            -7.389660e+01  3.033700e+04  2.001000e+03  2.000000e+00  "
      ]
     },
     "execution_count": 8,
     "metadata": {},
     "output_type": "execute_result"
    }
   ],
   "source": [
    "df.describe()"
   ]
  },
  {
   "cell_type": "code",
   "execution_count": 19,
   "metadata": {
    "scrolled": false
   },
   "outputs": [
    {
     "data": {
      "image/png": "[encoded data removed]",
      "text/plain": [
       "<matplotlib.figure.Figure at 0x7fd4491d3ed0>"
      ]
     },
     "metadata": {},
     "output_type": "display_data"
    }
   ],
   "source": [
    "def show_box():\n",
    "    fig, axes = plt.subplots(nrows = 2, ncols = 5, figsize = (15,10))\n",
    "    i = 1\n",
    "    for col in df.columns:\n",
    "        if df[col].dtype == np.float64 or df[col].dtype == np.int64:\n",
    "            ax = plt.subplot(2, 5, i)\n",
    "            plt.boxplot(df[col])\n",
    "            ax.set_title(col)\n",
    "            i += 1\n",
    "    plt.show()\n",
    "\n",
    "show_box()"
   ]
  },
  {
   "cell_type": "markdown",
   "metadata": {},
   "source": [
    "### Remove strange data\n",
    "\n",
    "- tripduration\n",
    "  - The time exceed a week could be forgot to return\n",
    "- birth year < 1917\n",
    "  - The 100-year-old people are alomst impossible to ride bike"
   ]
  },
  {
   "cell_type": "code",
   "execution_count": 20,
   "metadata": {},
   "outputs": [
    {
     "data": {
      "image/png": "[encoded data removed]",
      "text/plain": [
       "<matplotlib.figure.Figure at 0x7fd4493df910>"
      ]
     },
     "metadata": {},
     "output_type": "display_data"
    }
   ],
   "source": [
    "df = df.drop(df[df['tripduration'] < 7 * 86400].index)\n",
    "df = df.drop(df[df['birth year'] < 1917].index)\n",
    "show_box()"
   ]
  },
  {
   "cell_type": "markdown",
   "metadata": {},
   "source": [
    "### Detect unique station id map to station name"
   ]
  },
  {
   "cell_type": "code",
   "execution_count": 10,
   "metadata": {},
   "outputs": [
    {
     "data": {
      "text/plain": [
       "True"
      ]
     },
     "execution_count": 10,
     "metadata": {},
     "output_type": "execute_result"
    }
   ],
   "source": [
    "x1 = len(df['start station id'].unique())\n",
    "y1 = len(df[['start station id', 'start station name']].drop_duplicates())\n",
    "x2 = len(df['end station id'].unique())\n",
    "y2 = len(df[['end station id', 'end station name']].drop_duplicates())\n",
    "\n",
    "x1 == y1 and x2 == y2"
   ]
  },
  {
   "cell_type": "markdown",
   "metadata": {},
   "source": [
    "### Detect unique station id map to station latitude"
   ]
  },
  {
   "cell_type": "code",
   "execution_count": 11,
   "metadata": {},
   "outputs": [
    {
     "data": {
      "text/plain": [
       "True"
      ]
     },
     "execution_count": 11,
     "metadata": {},
     "output_type": "execute_result"
    }
   ],
   "source": [
    "x1 = len(df['start station id'].unique())\n",
    "y2 = len(df[['start station id', 'start station latitude']].drop_duplicates())\n",
    "x2 = len(df['end station id'].unique())\n",
    "y2 = len(df[['end station id', 'end station latitude']].drop_duplicates())\n",
    "\n",
    "x1 == y1 and x2 == y2"
   ]
  },
  {
   "cell_type": "markdown",
   "metadata": {},
   "source": [
    "### Detect unique station id map to station longitude"
   ]
  },
  {
   "cell_type": "code",
   "execution_count": 12,
   "metadata": {},
   "outputs": [
    {
     "data": {
      "text/plain": [
       "True"
      ]
     },
     "execution_count": 12,
     "metadata": {},
     "output_type": "execute_result"
    }
   ],
   "source": [
    "x1 = len(df['start station id'].unique())\n",
    "y2 = len(df[['start station id', 'start station longitude']].drop_duplicates())\n",
    "x2 = len(df['end station id'].unique())\n",
    "y2 = len(df[['end station id', 'end station longitude']].drop_duplicates())\n",
    "\n",
    "x1 == y1 and x2 == y2"
   ]
  },
  {
   "cell_type": "markdown",
   "metadata": {},
   "source": [
    "## Translate time to every hour stamp and detect strange time\n",
    "\n",
    "make in_flow and out_flow generate more easily, so we translate time to timestamp that repersents how many hours from 2017-07-01 00:00:00; and also check timestamp should be positive"
   ]
  },
  {
   "cell_type": "code",
   "execution_count": 14,
   "metadata": {},
   "outputs": [
    {
     "ename": "ImportError",
     "evalue": "No module named plotly.plotly",
     "output_type": "error",
     "traceback": [
      "\u001b[0;31m---------------------------------------------------------------------------\u001b[0m",
      "\u001b[0;31mImportError\u001b[0m                               Traceback (most recent call last)",
      "\u001b[0;32m<ipython-input-14-1810e1115090>\u001b[0m in \u001b[0;36m<module>\u001b[0;34m()\u001b[0m\n\u001b[0;32m----> 1\u001b[0;31m \u001b[0;32mimport\u001b[0m \u001b[0mplotly\u001b[0m\u001b[0;34m.\u001b[0m\u001b[0mplotly\u001b[0m \u001b[0;32mas\u001b[0m \u001b[0mpy\u001b[0m\u001b[0;34m\u001b[0m\u001b[0m\n\u001b[0m\u001b[1;32m      2\u001b[0m \u001b[0;32mfrom\u001b[0m \u001b[0mplotly\u001b[0m\u001b[0;34m.\u001b[0m\u001b[0mgraph_objs\u001b[0m \u001b[0;32mimport\u001b[0m \u001b[0;34m*\u001b[0m\u001b[0;34m\u001b[0m\u001b[0m\n",
      "\u001b[0;31mImportError\u001b[0m: No module named plotly.plotly"
     ]
    }
   ],
   "source": [
    "import plotly.plotly as py\n",
    "from plotly.graph_objs import *"
   ]
  },
  {
   "cell_type": "code",
   "execution_count": 13,
   "metadata": {
    "scrolled": true
   },
   "outputs": [
    {
     "ename": "NameError",
     "evalue": "global name 'datetime' is not defined",
     "output_type": "error",
     "traceback": [
      "\u001b[0;31m---------------------------------------------------------------------------\u001b[0m",
      "\u001b[0;31mNameError\u001b[0m                                 Traceback (most recent call last)",
      "\u001b[0;32m<ipython-input-13-f5b4a0b029bc>\u001b[0m in \u001b[0;36m<module>\u001b[0;34m()\u001b[0m\n\u001b[1;32m     10\u001b[0m \u001b[0;34m\u001b[0m\u001b[0m\n\u001b[1;32m     11\u001b[0m \u001b[0mstart_df\u001b[0m \u001b[0;34m=\u001b[0m \u001b[0mdf\u001b[0m\u001b[0;34m[\u001b[0m\u001b[0;34m[\u001b[0m\u001b[0;34m'starttime'\u001b[0m\u001b[0;34m,\u001b[0m \u001b[0;34m'start station id'\u001b[0m\u001b[0;34m]\u001b[0m\u001b[0;34m]\u001b[0m\u001b[0;34m\u001b[0m\u001b[0m\n\u001b[0;32m---> 12\u001b[0;31m \u001b[0mtimestamp\u001b[0m\u001b[0;34m(\u001b[0m\u001b[0mstart_df\u001b[0m\u001b[0;34m)\u001b[0m\u001b[0;34m\u001b[0m\u001b[0m\n\u001b[0m\u001b[1;32m     13\u001b[0m \u001b[0mend_df\u001b[0m \u001b[0;34m=\u001b[0m \u001b[0mdf\u001b[0m\u001b[0;34m[\u001b[0m\u001b[0;34m[\u001b[0m\u001b[0;34m'stoptime'\u001b[0m\u001b[0;34m,\u001b[0m \u001b[0;34m'end station id'\u001b[0m\u001b[0;34m]\u001b[0m\u001b[0;34m]\u001b[0m\u001b[0;34m\u001b[0m\u001b[0m\n\u001b[1;32m     14\u001b[0m \u001b[0mtimestamp\u001b[0m\u001b[0;34m(\u001b[0m\u001b[0mend_df\u001b[0m\u001b[0;34m)\u001b[0m\u001b[0;34m\u001b[0m\u001b[0m\n",
      "\u001b[0;32m<ipython-input-13-f5b4a0b029bc>\u001b[0m in \u001b[0;36mtimestamp\u001b[0;34m(df)\u001b[0m\n\u001b[1;32m      1\u001b[0m \u001b[0;32mdef\u001b[0m \u001b[0mtimestamp\u001b[0m\u001b[0;34m(\u001b[0m\u001b[0mdf\u001b[0m\u001b[0;34m)\u001b[0m\u001b[0;34m:\u001b[0m\u001b[0;34m\u001b[0m\u001b[0m\n\u001b[1;32m      2\u001b[0m     \u001b[0mtmp\u001b[0m \u001b[0;34m=\u001b[0m \u001b[0;34m[\u001b[0m\u001b[0;34m]\u001b[0m\u001b[0;34m\u001b[0m\u001b[0m\n\u001b[0;32m----> 3\u001b[0;31m     \u001b[0mt0\u001b[0m \u001b[0;34m=\u001b[0m \u001b[0mdatetime\u001b[0m\u001b[0;34m(\u001b[0m\u001b[0;36m2017\u001b[0m\u001b[0;34m,\u001b[0m \u001b[0;36m7\u001b[0m\u001b[0;34m,\u001b[0m \u001b[0;36m1\u001b[0m\u001b[0;34m,\u001b[0m \u001b[0;36m0\u001b[0m\u001b[0;34m,\u001b[0m \u001b[0;36m0\u001b[0m\u001b[0;34m)\u001b[0m\u001b[0;34m\u001b[0m\u001b[0m\n\u001b[0m\u001b[1;32m      4\u001b[0m     \u001b[0;32mfor\u001b[0m \u001b[0mrow\u001b[0m \u001b[0;32min\u001b[0m \u001b[0mdf\u001b[0m\u001b[0;34m.\u001b[0m\u001b[0mitertuples\u001b[0m\u001b[0;34m(\u001b[0m\u001b[0;34m)\u001b[0m\u001b[0;34m:\u001b[0m\u001b[0;34m\u001b[0m\u001b[0m\n\u001b[1;32m      5\u001b[0m         \u001b[0mt1\u001b[0m \u001b[0;34m=\u001b[0m \u001b[0mdatetime\u001b[0m\u001b[0;34m.\u001b[0m\u001b[0mstrptime\u001b[0m\u001b[0;34m(\u001b[0m\u001b[0mrow\u001b[0m\u001b[0;34m[\u001b[0m\u001b[0;36m1\u001b[0m\u001b[0;34m]\u001b[0m\u001b[0;34m,\u001b[0m \u001b[0;34m'%Y-%m-%d %H:%M:%S'\u001b[0m\u001b[0;34m)\u001b[0m\u001b[0;34m\u001b[0m\u001b[0m\n",
      "\u001b[0;31mNameError\u001b[0m: global name 'datetime' is not defined"
     ]
    }
   ],
   "source": [
    "def timestamp(df):\n",
    "    tmp = []\n",
    "    t0 = datetime(2017, 7, 1, 0, 0)\n",
    "    for row in df.itertuples():\n",
    "        t1 = datetime.strptime(row[1], '%Y-%m-%d %H:%M:%S')\n",
    "        tm = int((t1 - t0).total_seconds() // 1800)\n",
    "        assert tm >= 0\n",
    "        tmp.append(tm)\n",
    "    df.insert(loc = 0, column = 'timestamp', value = tmp)\n",
    "\n",
    "start_df = df[['starttime', 'start station id']]\n",
    "timestamp(start_df)\n",
    "end_df = df[['stoptime', 'end station id']]\n",
    "timestamp(end_df)\n",
    "# start_df\n",
    "end_df"
   ]
  },
  {
   "cell_type": "markdown",
   "metadata": {},
   "source": [
    "## Calculate station number\n",
    "\n",
    "append two columns and put them into set, so we can use len function to know the station number"
   ]
  },
  {
   "cell_type": "code",
   "execution_count": null,
   "metadata": {
    "scrolled": true
   },
   "outputs": [],
   "source": [
    "station_id = list(set(df['start station id'].tolist() + df['end station id'].tolist()))\n",
    "station_num = len(station_id)\n",
    "station_num"
   ]
  },
  {
   "cell_type": "markdown",
   "metadata": {},
   "source": [
    "## Calculate in_flow and out_flow\n",
    "\n",
    "use end_df and start_df to sum every timestamp, and the outcome is in_flow and out_flow"
   ]
  },
  {
   "cell_type": "code",
   "execution_count": null,
   "metadata": {
    "scrolled": true
   },
   "outputs": [],
   "source": [
    "def cnt_flow(df):\n",
    "    flow = pd.DataFrame(np.zeros((48 * 31, station_num)), columns = station_id)\n",
    "    for row in df.itertuples():\n",
    "        if row[1] < 48 * 31:\n",
    "            flow.loc[row[1], row[3]] += 1\n",
    "    return flow\n",
    "\n",
    "in_flow = cnt_flow(end_df)\n",
    "out_flow = cnt_flow(start_df)\n",
    "in_flow.to_csv('in_flow.csv')\n",
    "out_flow.to_csv('out_flow.csv')\n",
    "out_flow\n"
   ]
  },
  {
   "cell_type": "markdown",
   "metadata": {},
   "source": [
    "# Query"
   ]
  },
  {
   "cell_type": "markdown",
   "metadata": {},
   "source": [
    "## 1. How many stations are there in this dataset, and what is the average distance between them?\n",
    "\n",
    "there are 634 stations and the average distance between them is 10877.7798769 meters"
   ]
  },
  {
   "cell_type": "code",
   "execution_count": null,
   "metadata": {
    "scrolled": true
   },
   "outputs": [],
   "source": [
    "start_station = df[['start station id', 'start station name', 'start station latitude', 'start station longitude']]\n",
    "start_station.columns = ['station id', 'station name', 'station latitude', 'station logitude']\n",
    "end_station = df[['end station id', 'end station name', 'end station latitude', 'end station longitude']]\n",
    "end_station.columns = ['station id', 'station name', 'station latitude', 'station logitude']\n",
    "\n",
    "station = start_station.append(end_station, ignore_index = True)\n",
    "station = station.drop_duplicates()\n",
    "station = station.reset_index(drop = True)\n",
    "station_num = len(station)\n",
    "station"
   ]
  },
  {
   "cell_type": "markdown",
   "metadata": {},
   "source": [
    "use great circle to calculate distance"
   ]
  },
  {
   "cell_type": "code",
   "execution_count": null,
   "metadata": {
    "scrolled": true
   },
   "outputs": [],
   "source": [
    "dist_sum = 0\n",
    "for i in xrange(station_num):\n",
    "    for j in xrange(station_num):\n",
    "        if i != j:\n",
    "            a = (station.iloc[i, 2], station.iloc[i, 3])\n",
    "            b = (station.iloc[j, 2], station.iloc[j, 3])\n",
    "            dist_sum += great_circle(a, b).meters\n",
    "\n",
    "print dist_sum / float(station_num * (station_num - 1) / 2)"
   ]
  },
  {
   "cell_type": "markdown",
   "metadata": {},
   "source": [
    "## 2. What are the top 3 frequent stations pairs (start stations, end stations) in weekdays, how about in weekends?\n",
    "\n",
    "represent station by station id\n",
    "\n",
    "- weekdays\n",
    "    1. (432, 3263) 656\n",
    "    2. (2006, 2006) 547\n",
    "    3. (281, 281) 499\n",
    "\n",
    "\n",
    "- weekends\n",
    "    1. (3182, 3182) 889\n",
    "    2. (3182, 3254) 829\n",
    "    3. (3254, 3182) 818"
   ]
  },
  {
   "cell_type": "code",
   "execution_count": null,
   "metadata": {
    "scrolled": true
   },
   "outputs": [],
   "source": [
    "pair_station = df[['start station id', 'end station id', 'starttime', 'stoptime']]\n",
    "pair_station"
   ]
  },
  {
   "cell_type": "code",
   "execution_count": null,
   "metadata": {},
   "outputs": [],
   "source": [
    "pair = {}\n",
    "for row in pair_station.itertuples():\n",
    "    d = datetime.strptime(row[3], '%Y-%m-%d %H:%M:%S')\n",
    "    d = 'weekday' if d.isoweekday() < 6 else 'weekend'\n",
    "    if pair.get((row[1], row[2], d)):\n",
    "        pair[(row[1], row[2], d)] += 1\n",
    "    else:\n",
    "        pair[(row[1], row[2], d)] = 1\n",
    "pair = sorted(pair.items(), key=lambda d: d[1])\n",
    "end_cnt = 0\n",
    "day_cnt = 0\n",
    "for key, val in pair[::-1]:\n",
    "    if end_cnt >= 3 and day_cnt >= 3:\n",
    "        break\n",
    "    if 'weekend' in key and end_cnt < 3:\n",
    "        end_cnt += 1\n",
    "        print key, val\n",
    "    if 'weekday' in key and day_cnt < 3:\n",
    "        day_cnt += 1\n",
    "        print key, val"
   ]
  },
  {
   "cell_type": "markdown",
   "metadata": {},
   "source": [
    "## 3. Find the top 3 stations with highest average out-flow, and top 3 highest average in-flow\n",
    "\n",
    "represent station by station id"
   ]
  },
  {
   "cell_type": "markdown",
   "metadata": {},
   "source": [
    "### Top 3 stations with highest average out-flow"
   ]
  },
  {
   "cell_type": "code",
   "execution_count": null,
   "metadata": {
    "scrolled": false
   },
   "outputs": [],
   "source": [
    "mean_out_flow = pd.DataFrame(out_flow.mean().tolist(), station_id, columns = ['average flow'])\n",
    "mean_out_flow.nlargest(3, 'average flow')"
   ]
  },
  {
   "cell_type": "markdown",
   "metadata": {},
   "source": [
    "### Top 3 stations with highest average in-flow"
   ]
  },
  {
   "cell_type": "code",
   "execution_count": null,
   "metadata": {
    "scrolled": true
   },
   "outputs": [],
   "source": [
    "mean_in_flow = pd.DataFrame(in_flow.mean().tolist(), station_id, columns = ['average flow'])\n",
    "mean_in_flow.nlargest(3, 'average flow')"
   ]
  },
  {
   "cell_type": "markdown",
   "metadata": {},
   "source": [
    "## 4. What is the most popular station (highest average inflow + outflow)?"
   ]
  },
  {
   "cell_type": "code",
   "execution_count": null,
   "metadata": {
    "scrolled": true
   },
   "outputs": [],
   "source": [
    "(mean_in_flow + mean_out_flow).nlargest(1, 'average flow')"
   ]
  },
  {
   "cell_type": "markdown",
   "metadata": {},
   "source": [
    "### Define function to plot picture and calculate the distance"
   ]
  },
  {
   "cell_type": "code",
   "execution_count": null,
   "metadata": {},
   "outputs": [],
   "source": [
    "def cal_and_draw(in_df, out_df):\n",
    "    p_in_flow = in_df.tolist()\n",
    "    p_out_flow = out_df.tolist()\n",
    "    plt.figure(figsize = (16, 4))\n",
    "    plt.plot(p_in_flow)\n",
    "    plt.plot(p_out_flow)\n",
    "    plt.show()\n",
    "    print euclidean_distances(np.array(p_in_flow).reshape(1, -1), np.array(p_out_flow).reshape(1, -1))[0][0]"
   ]
  },
  {
   "cell_type": "markdown",
   "metadata": {},
   "source": [
    "### Draw the in-flow(A) and out-flow(B) for that station in a line chart\n",
    "### Calculate the distance function between A and B with euclidean distance"
   ]
  },
  {
   "cell_type": "code",
   "execution_count": null,
   "metadata": {
    "scrolled": true
   },
   "outputs": [],
   "source": [
    "p_in_flow = in_flow[519]\n",
    "p_out_flow = out_flow[519]\n",
    "cal_and_draw(p_in_flow, p_out_flow)"
   ]
  },
  {
   "cell_type": "markdown",
   "metadata": {},
   "source": [
    "### Calculate the distance function between A - mean(A) and B - mean(B) , and draw them both"
   ]
  },
  {
   "cell_type": "code",
   "execution_count": null,
   "metadata": {
    "scrolled": false
   },
   "outputs": [],
   "source": [
    "cal_and_draw(p_in_flow - p_in_flow.mean(), p_out_flow - p_out_flow.mean())"
   ]
  },
  {
   "cell_type": "markdown",
   "metadata": {},
   "source": [
    "### Calculate the distance function between (A - mean(A)) / std(A) and (B - mean(B)) / std(B) , and draw them both"
   ]
  },
  {
   "cell_type": "code",
   "execution_count": null,
   "metadata": {
    "scrolled": false
   },
   "outputs": [],
   "source": [
    "cal_and_draw((p_in_flow - p_in_flow.mean()) / p_in_flow.std(), (p_out_flow - p_out_flow.mean()) / p_out_flow.std())"
   ]
  },
  {
   "cell_type": "markdown",
   "metadata": {},
   "source": [
    "### Calculate the distance function between {Ai − f(i) | Ai ∈ A} and {Bi − f(i) | Bi ∈ B} , and draw them both\n",
    "\n",
    "remove linear trend along axis from data with scipy.signal.detrend"
   ]
  },
  {
   "cell_type": "code",
   "execution_count": null,
   "metadata": {
    "scrolled": false
   },
   "outputs": [],
   "source": [
    "cal_and_draw(signal.detrend(p_in_flow), signal.detrend(p_out_flow))"
   ]
  },
  {
   "cell_type": "markdown",
   "metadata": {},
   "source": [
    "### Calculate the distance function between Smooth(A) and Smooth(B) , and draw them both"
   ]
  },
  {
   "cell_type": "markdown",
   "metadata": {},
   "source": [
    "#### Smooth with a Savitzky-Golay filter\n",
    "\n",
    "the window-length = 5 means smooth over a 2-hour (120 minute) window"
   ]
  },
  {
   "cell_type": "code",
   "execution_count": null,
   "metadata": {
    "scrolled": true
   },
   "outputs": [],
   "source": [
    "cal_and_draw(signal.savgol_filter(p_in_flow, window_length = 5, polyorder = 0), signal.savgol_filter(p_out_flow, window_length = 5, polyorder = 0))"
   ]
  },
  {
   "cell_type": "markdown",
   "metadata": {},
   "source": [
    "## 5. Please try to find some interesting query or observation in the dataset"
   ]
  },
  {
   "cell_type": "markdown",
   "metadata": {},
   "source": [
    "### Calculate average trip duration with gender\n",
    "\n",
    "- male 901.685699446 sec\n",
    "- female 1017.37209273 sec\n",
    "- unknown 1873.76102282 sec"
   ]
  },
  {
   "cell_type": "code",
   "execution_count": null,
   "metadata": {
    "scrolled": true
   },
   "outputs": [],
   "source": [
    "duration_df = df[['tripduration', 'gender']]\n",
    "\n",
    "male_sum = 0\n",
    "male = 0\n",
    "female_sum = 0\n",
    "female = 0\n",
    "unknown_sum = 0\n",
    "unknown = 0\n",
    "\n",
    "for row in duration_df.itertuples():\n",
    "    gen = row[2]\n",
    "    if gen == 0:\n",
    "        unknown += 1\n",
    "        unknown_sum += row[1]\n",
    "    elif gen == 1:\n",
    "        male += 1\n",
    "        male_sum += row[1]\n",
    "    elif gen == 2:\n",
    "        female += 1\n",
    "        female_sum += row[1]\n",
    "\n",
    "print float(male_sum) / float(male)\n",
    "print float(female_sum) / float(female)\n",
    "print float(unknown_sum) / float(unknown)"
   ]
  },
  {
   "cell_type": "markdown",
   "metadata": {},
   "source": [
    "### The station which is most females visited\n",
    "\n",
    "represent station by station id\n",
    "\n",
    "in 426 station, there are most females, so we can visit there often XD"
   ]
  },
  {
   "cell_type": "code",
   "execution_count": null,
   "metadata": {},
   "outputs": [],
   "source": [
    "def keywithmaxval(d):\n",
    "    v = list(d.values())\n",
    "    k = list(d.keys())\n",
    "    return k[v.index(max(v))]\n",
    "\n",
    "tra_df = df[['start station id', 'end station id', 'gender']]\n",
    "cnt = {}\n",
    "for row in tra_df.itertuples():\n",
    "    if row[3] == 2:\n",
    "        if cnt.get(row[1]):\n",
    "            cnt[row[1]] += 1\n",
    "        else:\n",
    "            cnt[row[1]] = 1\n",
    "        if cnt.get(row[2]):\n",
    "            cnt[row[2]] += 1\n",
    "        else:\n",
    "            cnt[row[2]] = 1\n",
    "keywithmaxval(cnt)"
   ]
  }
 ],
 "metadata": {
  "kernelspec": {
   "display_name": "Python 2",
   "language": "python",
   "name": "python2"
  },
  "language_info": {
   "codemirror_mode": {
    "name": "ipython",
    "version": 2
   },
   "file_extension": ".py",
   "mimetype": "text/x-python",
   "name": "python",
   "nbconvert_exporter": "python",
   "pygments_lexer": "ipython2",
   "version": "2.7.12+"
  }
 },
 "nbformat": 4,
 "nbformat_minor": 2
}
